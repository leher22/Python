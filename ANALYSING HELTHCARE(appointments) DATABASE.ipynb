{
 "cells": [
  {
   "cell_type": "raw",
   "id": "284dcaf2-dc32-4055-a507-350b3f54fd82",
   "metadata": {
    "vscode": {
     "languageId": "raw"
    }
   },
   "source": [
    "ANALYSING HELTHCARE(appointments) DATABASE"
   ]
  },
  {
   "cell_type": "code",
   "execution_count": 20,
   "id": "8aa94b09-93a0-4e3f-a96e-86e610106527",
   "metadata": {},
   "outputs": [],
   "source": [
    "#import packages\n",
    "import pandas as pd\n",
    "import numpy as np\n",
    "import matplotlib.pyplot as plt"
   ]
  },
  {
   "cell_type": "code",
   "execution_count": 21,
   "id": "621d43fa-c0a3-40ab-ae4a-5ed55c1f5d35",
   "metadata": {},
   "outputs": [
    {
     "name": "stdout",
     "output_type": "stream",
     "text": [
      "      PatientId  AppointmentID Gender          ScheduledDay  \\\n",
      "0  2.987250e+13        5642903      F  2016-04-29T18:38:08Z   \n",
      "1  5.589978e+14        5642503      M  2016-04-29T16:08:27Z   \n",
      "2  4.262962e+12        5642549      F  2016-04-29T16:19:04Z   \n",
      "3  8.679512e+11        5642828      F  2016-04-29T17:29:31Z   \n",
      "4  8.841186e+12        5642494      F  2016-04-29T16:07:23Z   \n",
      "\n",
      "         AppointmentDay  Age      Neighbourhood  Scholarship  Hipertension  \\\n",
      "0  2016-04-29T00:00:00Z   62    JARDIM DA PENHA            0             1   \n",
      "1  2016-04-29T00:00:00Z   56    JARDIM DA PENHA            0             0   \n",
      "2  2016-04-29T00:00:00Z   62      MATA DA PRAIA            0             0   \n",
      "3  2016-04-29T00:00:00Z    8  PONTAL DE CAMBURI            0             0   \n",
      "4  2016-04-29T00:00:00Z   56    JARDIM DA PENHA            0             1   \n",
      "\n",
      "   Diabetes  Alcoholism  Handcap  SMS_received No-show  \n",
      "0         0           0        0             0      No  \n",
      "1         0           0        0             0      No  \n",
      "2         0           0        0             0      No  \n",
      "3         0           0        0             0      No  \n",
      "4         1           0        0             0      No  \n"
     ]
    }
   ],
   "source": [
    "file_path = r\"C:\\Users\\leher gangwar\\Downloads\\noshowappointments-kagglev2-may-2016.csv\"\n",
    "appointments_data = pd.read_csv(file_path)\n",
    "print(appointments_data.head())\n"
   ]
  },
  {
   "cell_type": "markdown",
   "id": "416c7b67-20a9-46d2-bff6-77e73e815851",
   "metadata": {},
   "source": [
    "Data Cleaning"
   ]
  },
  {
   "cell_type": "code",
   "execution_count": 22,
   "id": "2135b6bb-d56b-4ee1-8462-3bdd5c8a2558",
   "metadata": {},
   "outputs": [
    {
     "name": "stdout",
     "output_type": "stream",
     "text": [
      "<class 'pandas.core.frame.DataFrame'>\n",
      "RangeIndex: 110527 entries, 0 to 110526\n",
      "Data columns (total 14 columns):\n",
      " #   Column          Non-Null Count   Dtype  \n",
      "---  ------          --------------   -----  \n",
      " 0   PatientId       110527 non-null  float64\n",
      " 1   AppointmentID   110527 non-null  int64  \n",
      " 2   Gender          110527 non-null  object \n",
      " 3   ScheduledDay    110527 non-null  object \n",
      " 4   AppointmentDay  110527 non-null  object \n",
      " 5   Age             110527 non-null  int64  \n",
      " 6   Neighbourhood   110527 non-null  object \n",
      " 7   Scholarship     110527 non-null  int64  \n",
      " 8   Hipertension    110527 non-null  int64  \n",
      " 9   Diabetes        110527 non-null  int64  \n",
      " 10  Alcoholism      110527 non-null  int64  \n",
      " 11  Handcap         110527 non-null  int64  \n",
      " 12  SMS_received    110527 non-null  int64  \n",
      " 13  No-show         110527 non-null  object \n",
      "dtypes: float64(1), int64(8), object(5)\n",
      "memory usage: 11.8+ MB\n"
     ]
    }
   ],
   "source": [
    "appointments_data.info()"
   ]
  },
  {
   "cell_type": "code",
   "execution_count": 23,
   "id": "f48dfd5e-73b3-4632-b658-7eaa9f6f4cbe",
   "metadata": {},
   "outputs": [
    {
     "data": {
      "text/plain": [
       "False"
      ]
     },
     "execution_count": 23,
     "metadata": {},
     "output_type": "execute_result"
    }
   ],
   "source": [
    "#checking if any duplicate values\n",
    "appointments_data.duplicated().any()    "
   ]
  },
  {
   "cell_type": "code",
   "execution_count": 24,
   "id": "c40374f3-7aaf-4482-9e8c-763eb32a91d7",
   "metadata": {},
   "outputs": [
    {
     "data": {
      "text/html": [
       "<div>\n",
       "<style scoped>\n",
       "    .dataframe tbody tr th:only-of-type {\n",
       "        vertical-align: middle;\n",
       "    }\n",
       "\n",
       "    .dataframe tbody tr th {\n",
       "        vertical-align: top;\n",
       "    }\n",
       "\n",
       "    .dataframe thead th {\n",
       "        text-align: right;\n",
       "    }\n",
       "</style>\n",
       "<table border=\"1\" class=\"dataframe\">\n",
       "  <thead>\n",
       "    <tr style=\"text-align: right;\">\n",
       "      <th></th>\n",
       "      <th>PatientId</th>\n",
       "      <th>AppointmentID</th>\n",
       "      <th>Gender</th>\n",
       "      <th>ScheduledDay</th>\n",
       "      <th>AppointmentDay</th>\n",
       "      <th>Age</th>\n",
       "      <th>Neighbourhood</th>\n",
       "      <th>Scholarship</th>\n",
       "      <th>Hipertension</th>\n",
       "      <th>Diabetes</th>\n",
       "      <th>Alcoholism</th>\n",
       "      <th>Handcap</th>\n",
       "      <th>SMS_received</th>\n",
       "      <th>No-show</th>\n",
       "    </tr>\n",
       "  </thead>\n",
       "  <tbody>\n",
       "    <tr>\n",
       "      <th>0</th>\n",
       "      <td>False</td>\n",
       "      <td>False</td>\n",
       "      <td>False</td>\n",
       "      <td>False</td>\n",
       "      <td>False</td>\n",
       "      <td>False</td>\n",
       "      <td>False</td>\n",
       "      <td>False</td>\n",
       "      <td>False</td>\n",
       "      <td>False</td>\n",
       "      <td>False</td>\n",
       "      <td>False</td>\n",
       "      <td>False</td>\n",
       "      <td>False</td>\n",
       "    </tr>\n",
       "    <tr>\n",
       "      <th>1</th>\n",
       "      <td>False</td>\n",
       "      <td>False</td>\n",
       "      <td>False</td>\n",
       "      <td>False</td>\n",
       "      <td>False</td>\n",
       "      <td>False</td>\n",
       "      <td>False</td>\n",
       "      <td>False</td>\n",
       "      <td>False</td>\n",
       "      <td>False</td>\n",
       "      <td>False</td>\n",
       "      <td>False</td>\n",
       "      <td>False</td>\n",
       "      <td>False</td>\n",
       "    </tr>\n",
       "    <tr>\n",
       "      <th>2</th>\n",
       "      <td>False</td>\n",
       "      <td>False</td>\n",
       "      <td>False</td>\n",
       "      <td>False</td>\n",
       "      <td>False</td>\n",
       "      <td>False</td>\n",
       "      <td>False</td>\n",
       "      <td>False</td>\n",
       "      <td>False</td>\n",
       "      <td>False</td>\n",
       "      <td>False</td>\n",
       "      <td>False</td>\n",
       "      <td>False</td>\n",
       "      <td>False</td>\n",
       "    </tr>\n",
       "    <tr>\n",
       "      <th>3</th>\n",
       "      <td>False</td>\n",
       "      <td>False</td>\n",
       "      <td>False</td>\n",
       "      <td>False</td>\n",
       "      <td>False</td>\n",
       "      <td>False</td>\n",
       "      <td>False</td>\n",
       "      <td>False</td>\n",
       "      <td>False</td>\n",
       "      <td>False</td>\n",
       "      <td>False</td>\n",
       "      <td>False</td>\n",
       "      <td>False</td>\n",
       "      <td>False</td>\n",
       "    </tr>\n",
       "    <tr>\n",
       "      <th>4</th>\n",
       "      <td>False</td>\n",
       "      <td>False</td>\n",
       "      <td>False</td>\n",
       "      <td>False</td>\n",
       "      <td>False</td>\n",
       "      <td>False</td>\n",
       "      <td>False</td>\n",
       "      <td>False</td>\n",
       "      <td>False</td>\n",
       "      <td>False</td>\n",
       "      <td>False</td>\n",
       "      <td>False</td>\n",
       "      <td>False</td>\n",
       "      <td>False</td>\n",
       "    </tr>\n",
       "    <tr>\n",
       "      <th>...</th>\n",
       "      <td>...</td>\n",
       "      <td>...</td>\n",
       "      <td>...</td>\n",
       "      <td>...</td>\n",
       "      <td>...</td>\n",
       "      <td>...</td>\n",
       "      <td>...</td>\n",
       "      <td>...</td>\n",
       "      <td>...</td>\n",
       "      <td>...</td>\n",
       "      <td>...</td>\n",
       "      <td>...</td>\n",
       "      <td>...</td>\n",
       "      <td>...</td>\n",
       "    </tr>\n",
       "    <tr>\n",
       "      <th>110522</th>\n",
       "      <td>False</td>\n",
       "      <td>False</td>\n",
       "      <td>False</td>\n",
       "      <td>False</td>\n",
       "      <td>False</td>\n",
       "      <td>False</td>\n",
       "      <td>False</td>\n",
       "      <td>False</td>\n",
       "      <td>False</td>\n",
       "      <td>False</td>\n",
       "      <td>False</td>\n",
       "      <td>False</td>\n",
       "      <td>False</td>\n",
       "      <td>False</td>\n",
       "    </tr>\n",
       "    <tr>\n",
       "      <th>110523</th>\n",
       "      <td>False</td>\n",
       "      <td>False</td>\n",
       "      <td>False</td>\n",
       "      <td>False</td>\n",
       "      <td>False</td>\n",
       "      <td>False</td>\n",
       "      <td>False</td>\n",
       "      <td>False</td>\n",
       "      <td>False</td>\n",
       "      <td>False</td>\n",
       "      <td>False</td>\n",
       "      <td>False</td>\n",
       "      <td>False</td>\n",
       "      <td>False</td>\n",
       "    </tr>\n",
       "    <tr>\n",
       "      <th>110524</th>\n",
       "      <td>False</td>\n",
       "      <td>False</td>\n",
       "      <td>False</td>\n",
       "      <td>False</td>\n",
       "      <td>False</td>\n",
       "      <td>False</td>\n",
       "      <td>False</td>\n",
       "      <td>False</td>\n",
       "      <td>False</td>\n",
       "      <td>False</td>\n",
       "      <td>False</td>\n",
       "      <td>False</td>\n",
       "      <td>False</td>\n",
       "      <td>False</td>\n",
       "    </tr>\n",
       "    <tr>\n",
       "      <th>110525</th>\n",
       "      <td>False</td>\n",
       "      <td>False</td>\n",
       "      <td>False</td>\n",
       "      <td>False</td>\n",
       "      <td>False</td>\n",
       "      <td>False</td>\n",
       "      <td>False</td>\n",
       "      <td>False</td>\n",
       "      <td>False</td>\n",
       "      <td>False</td>\n",
       "      <td>False</td>\n",
       "      <td>False</td>\n",
       "      <td>False</td>\n",
       "      <td>False</td>\n",
       "    </tr>\n",
       "    <tr>\n",
       "      <th>110526</th>\n",
       "      <td>False</td>\n",
       "      <td>False</td>\n",
       "      <td>False</td>\n",
       "      <td>False</td>\n",
       "      <td>False</td>\n",
       "      <td>False</td>\n",
       "      <td>False</td>\n",
       "      <td>False</td>\n",
       "      <td>False</td>\n",
       "      <td>False</td>\n",
       "      <td>False</td>\n",
       "      <td>False</td>\n",
       "      <td>False</td>\n",
       "      <td>False</td>\n",
       "    </tr>\n",
       "  </tbody>\n",
       "</table>\n",
       "<p>110527 rows × 14 columns</p>\n",
       "</div>"
      ],
      "text/plain": [
       "        PatientId  AppointmentID  Gender  ScheduledDay  AppointmentDay    Age  \\\n",
       "0           False          False   False         False           False  False   \n",
       "1           False          False   False         False           False  False   \n",
       "2           False          False   False         False           False  False   \n",
       "3           False          False   False         False           False  False   \n",
       "4           False          False   False         False           False  False   \n",
       "...           ...            ...     ...           ...             ...    ...   \n",
       "110522      False          False   False         False           False  False   \n",
       "110523      False          False   False         False           False  False   \n",
       "110524      False          False   False         False           False  False   \n",
       "110525      False          False   False         False           False  False   \n",
       "110526      False          False   False         False           False  False   \n",
       "\n",
       "        Neighbourhood  Scholarship  Hipertension  Diabetes  Alcoholism  \\\n",
       "0               False        False         False     False       False   \n",
       "1               False        False         False     False       False   \n",
       "2               False        False         False     False       False   \n",
       "3               False        False         False     False       False   \n",
       "4               False        False         False     False       False   \n",
       "...               ...          ...           ...       ...         ...   \n",
       "110522          False        False         False     False       False   \n",
       "110523          False        False         False     False       False   \n",
       "110524          False        False         False     False       False   \n",
       "110525          False        False         False     False       False   \n",
       "110526          False        False         False     False       False   \n",
       "\n",
       "        Handcap  SMS_received  No-show  \n",
       "0         False         False    False  \n",
       "1         False         False    False  \n",
       "2         False         False    False  \n",
       "3         False         False    False  \n",
       "4         False         False    False  \n",
       "...         ...           ...      ...  \n",
       "110522    False         False    False  \n",
       "110523    False         False    False  \n",
       "110524    False         False    False  \n",
       "110525    False         False    False  \n",
       "110526    False         False    False  \n",
       "\n",
       "[110527 rows x 14 columns]"
      ]
     },
     "execution_count": 24,
     "metadata": {},
     "output_type": "execute_result"
    }
   ],
   "source": [
    "#checking for any null values\n",
    "appointments_data.isnull()"
   ]
  },
  {
   "cell_type": "code",
   "execution_count": 25,
   "id": "bc7d81f6-8b71-4d75-8282-c22bef4cc494",
   "metadata": {},
   "outputs": [
    {
     "data": {
      "text/plain": [
       "PatientId         0\n",
       "AppointmentID     0\n",
       "Gender            0\n",
       "ScheduledDay      0\n",
       "AppointmentDay    0\n",
       "Age               0\n",
       "Neighbourhood     0\n",
       "Scholarship       0\n",
       "Hipertension      0\n",
       "Diabetes          0\n",
       "Alcoholism        0\n",
       "Handcap           0\n",
       "SMS_received      0\n",
       "No-show           0\n",
       "dtype: int64"
      ]
     },
     "execution_count": 25,
     "metadata": {},
     "output_type": "execute_result"
    }
   ],
   "source": [
    "appointments_data.isnull().sum()"
   ]
  },
  {
   "cell_type": "code",
   "execution_count": 26,
   "id": "91b36bc5-5412-4425-bdff-ca0d293b35e6",
   "metadata": {},
   "outputs": [],
   "source": [
    "# converting some columns that has date to a datetime datatype\n",
    "appointments_data['ScheduledDay'] = pd.to_datetime(appointments_data['ScheduledDay'])\n",
    "appointments_data['AppointmentDay'] = pd.to_datetime(appointments_data['AppointmentDay'])"
   ]
  },
  {
   "cell_type": "code",
   "execution_count": 27,
   "id": "4c12e557-9f6d-42d5-950b-58a4e2e2263a",
   "metadata": {},
   "outputs": [
    {
     "data": {
      "text/plain": [
       "Text(0, 0.5, 'No of Patient')"
      ]
     },
     "execution_count": 27,
     "metadata": {},
     "output_type": "execute_result"
    },
    {
     "data": {
      "image/png": "[encoded data removed]",
      "text/plain": [
       "<Figure size 432x288 with 1 Axes>"
      ]
     },
     "metadata": {
      "needs_background": "light"
     },
     "output_type": "display_data"
    }
   ],
   "source": [
    "#plotting the histogram to show the relationship between memeber_birth_year and No of Users.\n",
    "bins = np.arange(10, appointments_data['Age'].max() + 10 , 10)  ##to create edges of a histogram\n",
    "plt.hist(data = appointments_data, x = 'Age' , bins = bins)\n",
    "plt.title('No of patient as per birth year')\n",
    "plt.xlabel('Age')\n",
    "plt.ylabel('No of Patient')"
   ]
  },
  {
   "cell_type": "raw",
   "id": "c0dc58cf-aca9-4119-9c7b-866c64a0c973",
   "metadata": {},
   "source": [
    "From the above histogram it is clearly visible that age group 50-60 have the most amount of patients suffering from disease."
   ]
  },
  {
   "cell_type": "raw",
   "id": "dbebe06b-f746-49d7-9fc7-880989f1af31",
   "metadata": {},
   "source": [
    "Disease that has the maximum number of patients"
   ]
  },
  {
   "cell_type": "code",
   "execution_count": 28,
   "id": "bd195639-9fc8-44ca-871b-406ef0c79b6f",
   "metadata": {},
   "outputs": [
    {
     "data": {
      "image/png": "[encoded data removed]",
      "text/plain": [
       "<Figure size 432x288 with 1 Axes>"
      ]
     },
     "metadata": {
      "needs_background": "light"
     },
     "output_type": "display_data"
    }
   ],
   "source": [
    "#first let's take out the mean of all the diseases to see the percentage of people with the specific health condition\n",
    "Alcoholism = appointments_data['Alcoholism'].mean()\n",
    "Diabetes = appointments_data['Diabetes'].mean()\n",
    "Handcap = appointments_data['Handcap'].mean()\n",
    "Hipertension = appointments_data['Hipertension'].mean()\n",
    "\n",
    "colors = ['red', '#3377ff', 'pink', '#FFD700']\n",
    "plt.bar(['Alcoholism','Diabetes','Handcap','Hipertension'], [Alcoholism, Diabetes, Handcap, Hipertension], color = colors)\n",
    "plt.title('Patient suffering from different disease')\n",
    "plt.xlabel('Disease')\n",
    "plt.ylabel('mean');"
   ]
  },
  {
   "cell_type": "raw",
   "id": "695885af-b109-4720-aed6-bd85ca43123a",
   "metadata": {},
   "source": [
    "It is clearly visible from the bar chart that Hipertension has the maximum amount of patients"
   ]
  },
  {
   "cell_type": "code",
   "execution_count": 29,
   "id": "70ce43bd-22c3-4b67-8153-aab0b147811c",
   "metadata": {},
   "outputs": [
    {
     "name": "stdout",
     "output_type": "stream",
     "text": [
      "Object `patients` not found.\n"
     ]
    }
   ],
   "source": [
    "Which gender has the maximum number of patients?"
   ]
  },
  {
   "cell_type": "code",
   "execution_count": null,
   "id": "e3f3f942",
   "metadata": {},
   "outputs": [],
   "source": [
    "Which gender has the maximum number of patients"
   ]
  },
  {
   "cell_type": "code",
   "execution_count": 30,
   "id": "8c16b5d7",
   "metadata": {},
   "outputs": [
    {
     "ename": "SyntaxError",
     "evalue": "invalid syntax (Temp/ipykernel_5640/4245953190.py, line 1)",
     "output_type": "error",
     "traceback": [
      "\u001b[1;36m  File \u001b[1;32m\"C:\\Users\\LEHERG~1\\AppData\\Local\\Temp/ipykernel_5640/4245953190.py\"\u001b[1;36m, line \u001b[1;32m1\u001b[0m\n\u001b[1;33m    Which gender has the maximum number of patients\u001b[0m\n\u001b[1;37m          ^\u001b[0m\n\u001b[1;31mSyntaxError\u001b[0m\u001b[1;31m:\u001b[0m invalid syntax\n"
     ]
    }
   ],
   "source": [
    "Which gender has the maximum number of patients"
   ]
  },
  {
   "cell_type": "code",
   "execution_count": 13,
   "id": "1d868416-22cb-4053-9d4a-b185a7017a1f",
   "metadata": {},
   "outputs": [
    {
     "data": {
      "image/png": "[encoded data removed]",
      "text/plain": [
       "<Figure size 432x288 with 1 Axes>"
      ]
     },
     "metadata": {},
     "output_type": "display_data"
    }
   ],
   "source": [
    "d = appointments_data[\"Gender\"].value_counts()##counts the occurrence of each unique value in \"Gender\"\n",
    "colors = ['red', 'green']\n",
    "d.plot.pie(autopct='%1.1f%%', colors=colors, labels = d.index)  \n",
    "plt.title(\"Distribution of a patient by gender\")\n",
    "plt.legend(d.index);  ##adds legend using the index of d (the unique values in 'Gender')"
   ]
  },
  {
   "cell_type": "markdown",
   "id": "3b7326d9-c65f-4b5b-b48c-892b7641daca",
   "metadata": {},
   "source": [
    "The pie chart clearly shows that female population is most suffering from any disease."
   ]
  },
  {
   "cell_type": "code",
   "execution_count": 14,
   "id": "bd2ed840-de82-4620-92d6-8f603dab431e",
   "metadata": {},
   "outputs": [],
   "source": [
    "#converting no show data to 0 and 1 instead of 'yes' and 'no' so we can handle using plot \n",
    "appointments_data.rename(columns = {'No-show':'No_show'}, inplace = True)  "
   ]
  },
  {
   "cell_type": "code",
   "execution_count": 15,
   "id": "52447aa1-f24b-4433-a044-225765012113",
   "metadata": {},
   "outputs": [
    {
     "name": "stderr",
     "output_type": "stream",
     "text": [
      "C:\\Users\\LEHERG~1\\AppData\\Local\\Temp/ipykernel_5640/919978058.py:1: SettingWithCopyWarning: \n",
      "A value is trying to be set on a copy of a slice from a DataFrame\n",
      "\n",
      "See the caveats in the documentation: https://pandas.pydata.org/pandas-docs/stable/user_guide/indexing.html#returning-a-view-versus-a-copy\n",
      "  appointments_data.No_show[appointments_data['No_show'] == 'Yes'] = '1'\n",
      "C:\\Users\\LEHERG~1\\AppData\\Local\\Temp/ipykernel_5640/919978058.py:2: SettingWithCopyWarning: \n",
      "A value is trying to be set on a copy of a slice from a DataFrame\n",
      "\n",
      "See the caveats in the documentation: https://pandas.pydata.org/pandas-docs/stable/user_guide/indexing.html#returning-a-view-versus-a-copy\n",
      "  appointments_data.No_show[appointments_data['No_show'] == 'No'] = '0'\n"
     ]
    }
   ],
   "source": [
    "appointments_data.No_show[appointments_data['No_show'] == 'Yes'] = '1'\n",
    "appointments_data.No_show[appointments_data['No_show'] == 'No'] = '0'\n",
    "appointments_data['No_show'] = pd.to_numeric(appointments_data['No_show'])"
   ]
  },
  {
   "cell_type": "code",
   "execution_count": 16,
   "id": "55e48557-3364-4c57-b13b-18d3b99217a5",
   "metadata": {},
   "outputs": [],
   "source": [
    "# create a mask for people who came\n",
    "showed = appointments_data['No_show'] == 0\n",
    "not_showed = appointments_data['No_show'] == 1\n",
    "appointments_data['showed'] = showed\n",
    "appointments_data['not_showed'] = not_showed"
   ]
  },
  {
   "cell_type": "code",
   "execution_count": 17,
   "id": "c6ea9b77-e461-4e1f-bd4c-008f9bcbee84",
   "metadata": {},
   "outputs": [
    {
     "name": "stdout",
     "output_type": "stream",
     "text": [
      "79.8067440534892\n"
     ]
    }
   ],
   "source": [
    "allP = appointments_data['showed'].value_counts()\n",
    "print(allP[1] / allP.sum() * 100)"
   ]
  },
  {
   "cell_type": "code",
   "execution_count": 18,
   "id": "d9247f5d-e423-4108-b7ec-a40345c44292",
   "metadata": {},
   "outputs": [
    {
     "data": {
      "image/png": "[encoded data removed]",
      "text/plain": [
       "<Figure size 360x360 with 1 Axes>"
      ]
     },
     "metadata": {},
     "output_type": "display_data"
    }
   ],
   "source": [
    "colors1 = [\"pink\", \"#d733ff\"]\n",
    "pieChart = allP.plot.pie(figsize=(5,5), autopct='%1.1f%%', fontsize = 12, colors = colors1);\n",
    "pieChart.set_title(\"Status\" + ' (%) (Per appointment)\\n', fontsize = 15);\n",
    "plt.legend();"
   ]
  },
  {
   "cell_type": "markdown",
   "id": "c435036e-1bdd-4bb0-aa0b-0c0bd6b2e1fa",
   "metadata": {},
   "source": [
    "Making an histogram to see the realtion between the (age,alcoholic people, SMS recievers, Gender, Scholarship) and the people who came to thier appointment"
   ]
  },
  {
   "cell_type": "code",
   "execution_count": 209,
   "id": "6b23ee18-6edf-4221-8913-9f9092c9474f",
   "metadata": {},
   "outputs": [
    {
     "name": "stdout",
     "output_type": "stream",
     "text": [
      "Alcoholism\n",
      "0    0.798054\n",
      "1    0.798512\n",
      "Name: showed, dtype: float64\n"
     ]
    },
    {
     "data": {
      "text/plain": [
       "<matplotlib.legend.Legend at 0x26e36827e90>"
      ]
     },
     "execution_count": 209,
     "metadata": {},
     "output_type": "execute_result"
    },
    {
     "data": {
      "image/png": "[encoded data removed]",
      "text/plain": [
       "<Figure size 800x500 with 1 Axes>"
      ]
     },
     "metadata": {},
     "output_type": "display_data"
    }
   ],
   "source": [
    "# using group by function to find relations between features\n",
    "# and then see the relation between alcoholic people and people who showed up and who didn't\n",
    "print(appointments_data.groupby('Alcoholism')['showed'].mean())\n",
    "appointments_data.groupby('Alcoholism')['showed'].mean().plot(kind='bar',figsize=(8,5), color=['#ff9999', '#66b3ff']);\n",
    "plt.xlabel(\"Showed\")\n",
    "plt.ylabel(\"Alcoholism\")\n",
    "plt.title(\"relation between alcoholics and patients who showed\")\n",
    "plt.legend()"
   ]
  },
  {
   "cell_type": "code",
   "execution_count": 237,
   "id": "7fcb8762-347d-499e-a63c-42bab1ccf9d6",
   "metadata": {},
   "outputs": [
    {
     "name": "stdout",
     "output_type": "stream",
     "text": [
      "SMS_received\n",
      "0    0.832967\n",
      "1    0.724255\n",
      "Name: showed, dtype: float64\n"
     ]
    },
    {
     "data": {
      "text/plain": [
       "<matplotlib.legend.Legend at 0x26e35736960>"
      ]
     },
     "execution_count": 237,
     "metadata": {},
     "output_type": "execute_result"
    },
    {
     "data": {
      "image/png": "[encoded data removed]",
      "text/plain": [
       "<Figure size 600x600 with 1 Axes>"
      ]
     },
     "metadata": {},
     "output_type": "display_data"
    }
   ],
   "source": [
    "# using group by function to find relations between features\n",
    "# and then see the relation between sms recievers and people who showed up and who didn't\n",
    "\n",
    "print(appointments_data.groupby('SMS_received')['showed'].mean())\n",
    "appointments_data.groupby('SMS_received')['showed'].mean().plot(kind='bar',figsize=(6,6), color = [\"red\", \"orange\"]);\n",
    "plt.xlabel(\"Showed\")\n",
    "plt.ylabel(\"SMS_recieved\")\n",
    "plt.title(\"relation between SMS_recievers and patients who showed\")\n",
    "plt.legend([\"Showed\"], title='Attendance status', fontsize = 'medium')\n"
   ]
  },
  {
   "cell_type": "code",
   "execution_count": 243,
   "id": "e79adf11-ef5e-42cf-abd0-d335e11ceeb6",
   "metadata": {},
   "outputs": [
    {
     "name": "stdout",
     "output_type": "stream",
     "text": [
      "Scholarship\n",
      "0    0.801928\n",
      "1    0.762637\n",
      "Name: showed, dtype: float64\n"
     ]
    },
    {
     "data": {
      "text/plain": [
       "<matplotlib.legend.Legend at 0x26e34f823f0>"
      ]
     },
     "execution_count": 243,
     "metadata": {},
     "output_type": "execute_result"
    },
    {
     "data": {
      "image/png": "[encoded data removed]",
      "text/plain": [
       "<Figure size 500x500 with 1 Axes>"
      ]
     },
     "metadata": {},
     "output_type": "display_data"
    }
   ],
   "source": [
    "# using group by function to find relations between features\n",
    "# and then see the relation between people who has scholarship and people who showed up and who didn't\n",
    "\n",
    "print(appointments_data.groupby('Scholarship')['showed'].mean())\n",
    "appointments_data.groupby('Scholarship')['showed'].mean().plot(kind = 'bar',figsize=(5,5), color = ['green', 'yellow'])\n",
    "plt.xlabel(\"Showed\")\n",
    "plt.ylabel(\"Scholarship\")\n",
    "plt.title(\"Relation between patients who have scholarship and patients who showed\")\n",
    "plt.legend([\"Showed\"])"
   ]
  },
  {
   "cell_type": "markdown",
   "id": "b32bb37e-4cbb-4b41-bfab-a150dcb616fb",
   "metadata": {},
   "source": [
    "\n",
    "Limitations: Missing features that could be useful to get more sure what is the most feature that impacts showing to the appointment such as if the patient is employeed or not , or whether the patient have a series medical issue or not. there we some illogical data such as patients with age 0 or less\n",
    "\n",
    "Conclusions\n",
    "As we can see sending an SMS for the appiontment is not neccessary the right option to make sure that the patient will come\n",
    "\n",
    "• As we can see about 22.8% of people that schedule an appointment did not make it to thier appointment\n",
    "\n",
    "• As we can see most of people who has Scholarship are most likely to miss thier appointments with a percentage of 76.2% of showing and patients who don't have a scholarship have the percentage 80.1%\n",
    "\n",
    "• The features such as different gender or alcoholic is not a factor to decide if the person would come to his appointment or not!"
   ]
  }
 ],
 "metadata": {
  "kernelspec": {
   "display_name": "Python 3",
   "language": "python",
   "name": "python3"
  },
  "language_info": {
   "codemirror_mode": {
    "name": "ipython",
    "version": 3
   },
   "file_extension": ".py",
   "mimetype": "text/x-python",
   "name": "python",
   "nbconvert_exporter": "python",
   "pygments_lexer": "ipython3",
   "version": "3.9.7"
  }
 },
 "nbformat": 4,
 "nbformat_minor": 5
}
